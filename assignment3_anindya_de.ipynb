{
 "cells": [
  {
   "cell_type": "code",
   "execution_count": 12,
   "metadata": {},
   "outputs": [
    {
     "name": "stdout",
     "output_type": "stream",
     "text": [
      "Collecting numpy\n",
      "  Using cached numpy-1.23.4-cp310-cp310-macosx_11_0_arm64.whl (13.3 MB)\n",
      "Requirement already satisfied: pillow in /Users/anindyade/.pyenv/versions/3.10.1/lib/python3.10/site-packages (9.2.0)\n",
      "Installing collected packages: numpy\n",
      "Successfully installed numpy-1.23.4\n",
      "\u001b[33mWARNING: You are using pip version 21.2.4; however, version 22.3 is available.\n",
      "You should consider upgrading via the '/Users/anindyade/.pyenv/versions/3.10.1/bin/python -m pip install --upgrade pip' command.\u001b[0m\n",
      "Note: you may need to restart the kernel to use updated packages.\n"
     ]
    }
   ],
   "source": [
    "pip install numpy pillow"
   ]
  },
  {
   "cell_type": "code",
   "execution_count": 1,
   "metadata": {},
   "outputs": [],
   "source": [
    "from PIL import Image, ImageDraw\n",
    "import numpy as np\n",
    "import random\n",
    "import os.path\n",
    "import pickle"
   ]
  },
  {
   "cell_type": "code",
   "execution_count": 3,
   "metadata": {},
   "outputs": [],
   "source": [
    "def ComputeSSD(TODOPatch, TODOMask, textureIm, patchL):\n",
    "    patch_rows, patch_cols, patch_bands = np.shape(TODOPatch)\n",
    "    tex_rows, tex_cols, tex_bands = np.shape(textureIm)\n",
    "    ssd_rows = tex_rows - 2 * patchL\n",
    "    ssd_cols = tex_cols - 2 * patchL\n",
    "    SSD = np.zeros((ssd_rows,ssd_cols))\n",
    "    for r in range(ssd_rows):\n",
    "        for c in range(ssd_cols):\n",
    "        # Compute sum square difference between textureIm and TODOPatch\n",
    "        # for all pixels where TODOMask = 0, and store the result in SSD\n",
    "        #\n",
    "            for i in range(patch_rows):\n",
    "                for j in range(patch_cols):\n",
    "                    if TODOMask[i,j] == 0:\n",
    "                        SSD[r,c] += np.sum((TODOPatch[i,j] - textureIm[r+i,c+j])**2)\n",
    "            pass\n",
    "        pass\n",
    "    return SSD\n",
    "\n",
    "def CopyPatch(imHole,TODOMask,textureIm,iPatchCenter,jPatchCenter,iMatchCenter,jMatchCenter,patchL):\n",
    "    patchSize = 2 * patchL + 1\n",
    "    for i in range(patchSize):\n",
    "        for j in range(patchSize):\n",
    "            # Copy the selected patch selectPatch into the image containing\n",
    "            # the hole imHole for each pixel where TODOMask = 1.\n",
    "            # The patch is centred on iPatchCenter, jPatchCenter in the image imHole\n",
    "            #\n",
    "            # ADD YOUR CODE HERE\n",
    "            #\n",
    "            row = i +iPatchCenter\n",
    "            column = j + jPatchCenter\n",
    "            t_row = i +iMatchCenter\n",
    "            t_column = j + jMatchCenter\n",
    "            \n",
    "\n",
    "            # check if pixel contains any content\n",
    "            if TODOMask[i][j] == 1:\n",
    "\n",
    "                # position information\n",
    "                result_row = row - patchL\n",
    "                result_col = column - patchL\n",
    "                texture_row = t_row - patchL\n",
    "                texture_column = t_column - patchL\n",
    "                \n",
    "                # location of the hole data, placing contents of data into\n",
    "                # the hole data\n",
    "                hole =imHole[result_row][result_col]\n",
    "\n",
    "                # the sample texture box where we are obtaining the data from\n",
    "                texture = textureIm[texture_row][texture_column]\n",
    "                \n",
    "                # obtaining data from texture box and placing it into the hole.\n",
    "                for p in range(min(len(hole),3)):\n",
    "                    hole[p] = texture[p]\n",
    "            pass\n",
    "        pass\n",
    "    return imHole"
   ]
  }
 ],
 "metadata": {
  "kernelspec": {
   "display_name": "Python 3.10.1 64-bit ('3.10.1')",
   "language": "python",
   "name": "python3"
  },
  "language_info": {
   "codemirror_mode": {
    "name": "ipython",
    "version": 3
   },
   "file_extension": ".py",
   "mimetype": "text/x-python",
   "name": "python",
   "nbconvert_exporter": "python",
   "pygments_lexer": "ipython3",
   "version": "3.10.1"
  },
  "orig_nbformat": 4,
  "vscode": {
   "interpreter": {
    "hash": "daf01f1322232768541087ead29437ba498073207d84ee02bd5bd5a48e186b80"
   }
  }
 },
 "nbformat": 4,
 "nbformat_minor": 2
}
